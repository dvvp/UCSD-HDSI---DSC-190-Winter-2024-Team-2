{
 "cells": [
  {
   "cell_type": "code",
   "execution_count": 1,
   "id": "12e3a613",
   "metadata": {},
   "outputs": [],
   "source": [
    "# pip install roboflow"
   ]
  },
  {
   "cell_type": "code",
   "execution_count": 2,
   "id": "ce5cd5c2",
   "metadata": {
    "scrolled": true
   },
   "outputs": [
    {
     "name": "stdout",
     "output_type": "stream",
     "text": [
      "loading Roboflow workspace...\n",
      "loading Roboflow project...\n"
     ]
    }
   ],
   "source": [
    "# Initializing model\n",
    "from roboflow import Roboflow\n",
    "\n",
    "rf = Roboflow(api_key=\"XG3i4cX7XdFeVFrfNqy5\")\n",
    "project = rf.workspace().project(\"dsc190-road-detection\")"
   ]
  },
  {
   "cell_type": "code",
   "execution_count": 3,
   "id": "ed81e354",
   "metadata": {},
   "outputs": [],
   "source": [
    "# Training specs:\n",
    "# Roboflow Semantic Segmentation Model\n",
    "# 640x400p pre-processing\n",
    "# -15% and +15% brightness augmentations\n",
    "model1 = project.version(\"10\").model\n",
    "\n",
    "# Training specs:\n",
    "# Roboflow Semantic Segmentation Model\n",
    "# 640x400p pre-processing\n",
    "# -15% and +15% brightness augmentations\n",
    "model2 = project.version(\"11\").model"
   ]
  },
  {
   "cell_type": "code",
   "execution_count": 11,
   "id": "5ca73ab1",
   "metadata": {
    "scrolled": false
   },
   "outputs": [],
   "source": [
    "import cv2\n",
    "import os\n",
    "import shutil \n",
    "import time\n",
    "\n",
    "def extract_frames_and_predict(video_path, output_folder, model):\n",
    "    # Open the video file\n",
    "    cap = cv2.VideoCapture(video_path)\n",
    "\n",
    "    # Check if the video file is opened successfully\n",
    "    if not cap.isOpened():\n",
    "        print(\"Error: Couldn't open the video file.\")\n",
    "        return\n",
    "\n",
    "    # Remove all content if the folder already exists\n",
    "    if os.path.exists(output_folder):\n",
    "        shutil.rmtree(output_folder)\n",
    "    \n",
    "    # Create output folder\n",
    "    os.makedirs(output_folder)\n",
    "\n",
    "    # Initialize variables\n",
    "    frame_count = 0\n",
    "\n",
    "    # Read frames from the video, predict, and save the result\n",
    "    while True:\n",
    "        ret, frame = cap.read()\n",
    "\n",
    "        if not ret:\n",
    "            break  # Break the loop if there are no more frames\n",
    "\n",
    "        frame_count += 1\n",
    "\n",
    "        # Save each frame with a unique temporary file path\n",
    "        temp_image_path = os.path.join(output_folder, f\"temp_frame_{frame_count:04d}.jpg\")\n",
    "        cv2.imwrite(temp_image_path, frame)\n",
    "\n",
    "        # Perform prediction on the saved frame\n",
    "        prediction = model.predict(temp_image_path)\n",
    "\n",
    "        # Save the prediction result as an image\n",
    "        prediction_filename = os.path.join(output_folder, f\"prediction_{frame_count:04d}.jpg\")\n",
    "        prediction.save(prediction_filename)\n",
    "        \n",
    "        # Release the resources associated with the video frame\n",
    "        del frame\n",
    "\n",
    "        # Add a small delay to ensure the file is released before attempting to remove it\n",
    "        time.sleep(0.1) \n",
    "\n",
    "        # Remove the temporary file\n",
    "        os.remove(temp_image_path)\n",
    "        \n",
    "        del temp_image_path\n",
    "        del prediction\n",
    "        del prediction_filename\n",
    "\n",
    "    # Release the video capture object\n",
    "    cap.release()\n",
    "\n",
    "    print(f\"Predictions saved to {output_folder}\")\n",
    "\n",
    "# Example usage\n",
    "video_path = \"P6010002_640_400.mp4\"\n",
    "output_folder = \"predictions\""
   ]
  },
  {
   "cell_type": "code",
   "execution_count": 12,
   "id": "2951c3f5",
   "metadata": {},
   "outputs": [],
   "source": [
    "def combine_frames(folder_path, output_video, fps=30):\n",
    "\n",
    "    # Get the list of JPG files in the folder\n",
    "    image_files = [f for f in os.listdir(folder_path) if f.endswith(\".jpg\")]\n",
    "\n",
    "    # Sort the files based on their creation date\n",
    "    image_files.sort(key=lambda x: os.path.getctime(os.path.join(folder_path, x)))\n",
    "\n",
    "    # Get the first image to determine the dimensions of the video\n",
    "    first_image_path = os.path.join(folder_path, image_files[0])\n",
    "    first_image = cv2.imread(first_image_path)\n",
    "    height, width, _ = first_image.shape\n",
    "\n",
    "    # Create a VideoWriter object\n",
    "    fourcc = cv2.VideoWriter_fourcc(*\"mp4v\")  # Use mp4v for .mp4 extension\n",
    "    video_writer = cv2.VideoWriter(output_video, fourcc, fps, (width, height))\n",
    "\n",
    "    # Iterate through the image files and write each frame to the video\n",
    "    for image_file in image_files:\n",
    "        image_path = os.path.join(folder_path, image_file)\n",
    "        frame = cv2.imread(image_path)\n",
    "        video_writer.write(frame)\n",
    "\n",
    "    # Release the VideoWriter object\n",
    "    video_writer.release()\n",
    "\n",
    "    print(f\"Video created: {output_video}\")\n",
    "    \n",
    "folder_path = \"predictions\""
   ]
  },
  {
   "cell_type": "code",
   "execution_count": 13,
   "id": "487ba766",
   "metadata": {},
   "outputs": [
    {
     "name": "stdout",
     "output_type": "stream",
     "text": [
      "Predictions saved to predictions\n"
     ]
    }
   ],
   "source": [
    "extract_frames_and_predict(video_path, output_folder, model1)"
   ]
  },
  {
   "cell_type": "code",
   "execution_count": null,
   "id": "495f406d",
   "metadata": {},
   "outputs": [],
   "source": [
    "output_video = \"P6010002_Processed_1.mp4\"\n",
    "combine_frames(folder_path, output_video)"
   ]
  },
  {
   "cell_type": "code",
   "execution_count": null,
   "id": "4e339c34",
   "metadata": {},
   "outputs": [],
   "source": [
    "extract_frames_and_predict(video_path, output_folder, model2)"
   ]
  },
  {
   "cell_type": "code",
   "execution_count": null,
   "id": "4d3392ef",
   "metadata": {},
   "outputs": [],
   "source": [
    "output_video = \"P6010002_Processed_2.mp4\"\n",
    "combine_frames(folder_path, output_video)"
   ]
  },
  {
   "cell_type": "code",
   "execution_count": null,
   "id": "81b5e0a0",
   "metadata": {},
   "outputs": [],
   "source": []
  }
 ],
 "metadata": {
  "kernelspec": {
   "display_name": "Python 3 (ipykernel)",
   "language": "python",
   "name": "python3"
  },
  "language_info": {
   "codemirror_mode": {
    "name": "ipython",
    "version": 3
   },
   "file_extension": ".py",
   "mimetype": "text/x-python",
   "name": "python",
   "nbconvert_exporter": "python",
   "pygments_lexer": "ipython3",
   "version": "3.11.0"
  }
 },
 "nbformat": 4,
 "nbformat_minor": 5
}
